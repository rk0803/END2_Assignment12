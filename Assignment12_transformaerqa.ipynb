{
  "nbformat": 4,
  "nbformat_minor": 0,
  "metadata": {
    "colab": {
      "name": "Assignment12_transformaerqa.ipynb",
      "provenance": [],
      "collapsed_sections": [],
      "machine_shape": "hm"
    },
    "kernelspec": {
      "name": "python3",
      "display_name": "Python 3"
    },
    "language_info": {
      "name": "python"
    }
  },
  "cells": [
    {
      "cell_type": "code",
      "metadata": {
        "id": "d27S03zbAAPu"
      },
      "source": [
        "import torch\n",
        "import torch.nn as nn\n",
        "import torch.optim as optim\n",
        "import torchtext\n",
        "\n",
        "from torchtext.legacy.data import Field, BucketIterator\n",
        "\n",
        "import spacy\n",
        "import numpy as np\n",
        "\n",
        "import random\n",
        "import math\n",
        "import time"
      ],
      "execution_count": 1,
      "outputs": []
    },
    {
      "cell_type": "code",
      "metadata": {
        "id": "aSQEcla0Ad0E"
      },
      "source": [
        "SEED = 1234\n",
        "\n",
        "random.seed(SEED)\n",
        "np.random.seed(SEED)\n",
        "torch.manual_seed(SEED)\n",
        "torch.cuda.manual_seed(SEED)\n",
        "torch.backends.cudnn.deterministic = True\n",
        "#!pip install spacy --upgrade"
      ],
      "execution_count": 2,
      "outputs": []
    },
    {
      "cell_type": "markdown",
      "metadata": {
        "id": "blRsAVWGqkj1"
      },
      "source": [
        "Since in this assignment, we are only working on English, spacy for english only is needed."
      ]
    },
    {
      "cell_type": "code",
      "metadata": {
        "colab": {
          "base_uri": "https://localhost:8080/"
        },
        "id": "gGS-Zzs2Aglb",
        "outputId": "b8d8fd1d-97f5-4f6d-b2dc-acbd53f9c3f6"
      },
      "source": [
        "%%bash\n",
        "python -m spacy download en"
      ],
      "execution_count": 3,
      "outputs": [
        {
          "output_type": "stream",
          "text": [
            "Collecting en_core_web_sm==2.2.5\n",
            "  Downloading https://github.com/explosion/spacy-models/releases/download/en_core_web_sm-2.2.5/en_core_web_sm-2.2.5.tar.gz (12.0 MB)\n",
            "Requirement already satisfied: spacy>=2.2.2 in /usr/local/lib/python3.7/dist-packages (from en_core_web_sm==2.2.5) (2.2.4)\n",
            "Requirement already satisfied: srsly<1.1.0,>=1.0.2 in /usr/local/lib/python3.7/dist-packages (from spacy>=2.2.2->en_core_web_sm==2.2.5) (1.0.5)\n",
            "Requirement already satisfied: catalogue<1.1.0,>=0.0.7 in /usr/local/lib/python3.7/dist-packages (from spacy>=2.2.2->en_core_web_sm==2.2.5) (1.0.0)\n",
            "Requirement already satisfied: plac<1.2.0,>=0.9.6 in /usr/local/lib/python3.7/dist-packages (from spacy>=2.2.2->en_core_web_sm==2.2.5) (1.1.3)\n",
            "Requirement already satisfied: thinc==7.4.0 in /usr/local/lib/python3.7/dist-packages (from spacy>=2.2.2->en_core_web_sm==2.2.5) (7.4.0)\n",
            "Requirement already satisfied: murmurhash<1.1.0,>=0.28.0 in /usr/local/lib/python3.7/dist-packages (from spacy>=2.2.2->en_core_web_sm==2.2.5) (1.0.5)\n",
            "Requirement already satisfied: requests<3.0.0,>=2.13.0 in /usr/local/lib/python3.7/dist-packages (from spacy>=2.2.2->en_core_web_sm==2.2.5) (2.23.0)\n",
            "Requirement already satisfied: numpy>=1.15.0 in /usr/local/lib/python3.7/dist-packages (from spacy>=2.2.2->en_core_web_sm==2.2.5) (1.19.5)\n",
            "Requirement already satisfied: preshed<3.1.0,>=3.0.2 in /usr/local/lib/python3.7/dist-packages (from spacy>=2.2.2->en_core_web_sm==2.2.5) (3.0.5)\n",
            "Requirement already satisfied: blis<0.5.0,>=0.4.0 in /usr/local/lib/python3.7/dist-packages (from spacy>=2.2.2->en_core_web_sm==2.2.5) (0.4.1)\n",
            "Requirement already satisfied: tqdm<5.0.0,>=4.38.0 in /usr/local/lib/python3.7/dist-packages (from spacy>=2.2.2->en_core_web_sm==2.2.5) (4.41.1)\n",
            "Requirement already satisfied: wasabi<1.1.0,>=0.4.0 in /usr/local/lib/python3.7/dist-packages (from spacy>=2.2.2->en_core_web_sm==2.2.5) (0.8.2)\n",
            "Requirement already satisfied: setuptools in /usr/local/lib/python3.7/dist-packages (from spacy>=2.2.2->en_core_web_sm==2.2.5) (57.2.0)\n",
            "Requirement already satisfied: cymem<2.1.0,>=2.0.2 in /usr/local/lib/python3.7/dist-packages (from spacy>=2.2.2->en_core_web_sm==2.2.5) (2.0.5)\n",
            "Requirement already satisfied: importlib-metadata>=0.20 in /usr/local/lib/python3.7/dist-packages (from catalogue<1.1.0,>=0.0.7->spacy>=2.2.2->en_core_web_sm==2.2.5) (4.6.1)\n",
            "Requirement already satisfied: zipp>=0.5 in /usr/local/lib/python3.7/dist-packages (from importlib-metadata>=0.20->catalogue<1.1.0,>=0.0.7->spacy>=2.2.2->en_core_web_sm==2.2.5) (3.5.0)\n",
            "Requirement already satisfied: typing-extensions>=3.6.4 in /usr/local/lib/python3.7/dist-packages (from importlib-metadata>=0.20->catalogue<1.1.0,>=0.0.7->spacy>=2.2.2->en_core_web_sm==2.2.5) (3.7.4.3)\n",
            "Requirement already satisfied: idna<3,>=2.5 in /usr/local/lib/python3.7/dist-packages (from requests<3.0.0,>=2.13.0->spacy>=2.2.2->en_core_web_sm==2.2.5) (2.10)\n",
            "Requirement already satisfied: certifi>=2017.4.17 in /usr/local/lib/python3.7/dist-packages (from requests<3.0.0,>=2.13.0->spacy>=2.2.2->en_core_web_sm==2.2.5) (2021.5.30)\n",
            "Requirement already satisfied: chardet<4,>=3.0.2 in /usr/local/lib/python3.7/dist-packages (from requests<3.0.0,>=2.13.0->spacy>=2.2.2->en_core_web_sm==2.2.5) (3.0.4)\n",
            "Requirement already satisfied: urllib3!=1.25.0,!=1.25.1,<1.26,>=1.21.1 in /usr/local/lib/python3.7/dist-packages (from requests<3.0.0,>=2.13.0->spacy>=2.2.2->en_core_web_sm==2.2.5) (1.24.3)\n",
            "\u001b[38;5;2m✔ Download and installation successful\u001b[0m\n",
            "You can now load the model via spacy.load('en_core_web_sm')\n",
            "\u001b[38;5;2m✔ Linking successful\u001b[0m\n",
            "/usr/local/lib/python3.7/dist-packages/en_core_web_sm -->\n",
            "/usr/local/lib/python3.7/dist-packages/spacy/data/en\n",
            "You can now load the model via spacy.load('en')\n"
          ],
          "name": "stdout"
        }
      ]
    },
    {
      "cell_type": "code",
      "metadata": {
        "id": "vKK9oA7OArZK"
      },
      "source": [
        "spacy_en = spacy.load('en_core_web_sm')"
      ],
      "execution_count": 4,
      "outputs": []
    },
    {
      "cell_type": "code",
      "metadata": {
        "id": "DPubajj7A0pY"
      },
      "source": [
        "def tokenize_n(text):\n",
        "    \"\"\"\n",
        "    Tokenizes English text from a string into a list of strings (tokens)\n",
        "    \"\"\"\n",
        "    return [tok.text for tok in spacy_en.tokenizer(text)]"
      ],
      "execution_count": 5,
      "outputs": []
    },
    {
      "cell_type": "code",
      "metadata": {
        "id": "ztK5PjShBN_M"
      },
      "source": [
        "QUE = Field(tokenize = tokenize_n,\n",
        "            init_token = '<sos>', \n",
        "            eos_token = '<eos>', \n",
        "            lower = True)\n",
        "\n",
        "ANS = Field(tokenize = tokenize_n, \n",
        "            init_token = '<sos>', \n",
        "            eos_token = '<eos>', \n",
        "            lower = True)"
      ],
      "execution_count": 6,
      "outputs": []
    },
    {
      "cell_type": "code",
      "metadata": {
        "id": "lOouEwjob8vW"
      },
      "source": [
        "#STR1 = Field(sequential = True, tokenize = tokenize_n, init_token='<sos>',eos_token='<eos>', lower=True)\n",
        "#STR2 = Field(sequential = True, tokenize = tokenize_n, init_token='<sos>',eos_token='<eos>', lower=True)"
      ],
      "execution_count": 7,
      "outputs": []
    },
    {
      "cell_type": "code",
      "metadata": {
        "id": "UN1U1mDgc2Ng"
      },
      "source": [
        "fields = [('que', QUE),('ans',ANS)]"
      ],
      "execution_count": 8,
      "outputs": []
    },
    {
      "cell_type": "code",
      "metadata": {
        "id": "9xc41WdPdDm7"
      },
      "source": [
        "import pandas as pd\n",
        "from google.colab import files"
      ],
      "execution_count": 9,
      "outputs": []
    },
    {
      "cell_type": "code",
      "metadata": {
        "colab": {
          "base_uri": "https://localhost:8080/"
        },
        "id": "c0fFRUpDUYG0",
        "outputId": "73f31e65-3541-4ede-8612-646fb384ae68"
      },
      "source": [
        "from google.colab import drive\n",
        "drive.mount('/content/drive')"
      ],
      "execution_count": 10,
      "outputs": [
        {
          "output_type": "stream",
          "text": [
            "Drive already mounted at /content/drive; to attempt to forcibly remount, call drive.mount(\"/content/drive\", force_remount=True).\n"
          ],
          "name": "stdout"
        }
      ]
    },
    {
      "cell_type": "markdown",
      "metadata": {
        "id": "ReVRJN6BB_5h"
      },
      "source": [
        "## Overview of the Question Answer Dataset\n",
        "\n",
        "The file \"question_answer_pairs.txt\" contains the questions and answers. The first line of the file contains \n",
        "column names for the tab-separated data fields in the file. This first line follows:\n",
        "\n",
        "ArticleTitle    Question        Answer  DifficultyFromQuestioner        DifficultyFromAnswerer  ArticleFile\n",
        "\n",
        "Field 1 is the name of the Wikipedia article from which questions and answers initially came.\n",
        "Field 2 is the question.\n",
        "Field 3 is the answer.\n",
        "Field 4 is the prescribed difficulty rating for the question as given to the question-writer. \n",
        "Field 5 is a difficulty rating assigned by the individual who evaluated and answered the question, \n",
        "which may differ from the difficulty in field 4."
      ]
    },
    {
      "cell_type": "markdown",
      "metadata": {
        "id": "K5L0NfgErGAZ"
      },
      "source": [
        "Since we are only focussing on the text part of the dataset, which is question and answer, I am only picking up these two columns."
      ]
    },
    {
      "cell_type": "code",
      "metadata": {
        "id": "rO6Zo6h8e1D1"
      },
      "source": [
        "df=pd.read_csv('/content/drive/MyDrive/dataset/cmu/S08/question_answer_pairs.txt',sep='\\t',\n",
        "               header=0,lineterminator='\\n',dtype=pd.StringDtype(),encoding = \"ISO-8859-1\",\n",
        "               names= ['ArticleTitle','Question','Answer','DifficultyFromQuestioner','DifficultyFromAnswerer','ArticleFile'],usecols = ['Question','Answer'])"
      ],
      "execution_count": 11,
      "outputs": []
    },
    {
      "cell_type": "code",
      "metadata": {
        "colab": {
          "base_uri": "https://localhost:8080/"
        },
        "id": "zOsGZYC9s19e",
        "outputId": "57c17bfe-5bf7-4acc-806b-04e5702b2573"
      },
      "source": [
        "for col in df.columns:\n",
        "    print(f'\\t column {col} | {type(df[col][0])}')"
      ],
      "execution_count": 12,
      "outputs": [
        {
          "output_type": "stream",
          "text": [
            "\t column Question | <class 'str'>\n",
            "\t column Answer | <class 'str'>\n"
          ],
          "name": "stdout"
        }
      ]
    },
    {
      "cell_type": "code",
      "metadata": {
        "colab": {
          "base_uri": "https://localhost:8080/"
        },
        "id": "eTkgbK1Xmu4J",
        "outputId": "8f0c52b7-a320-4c4f-9d6b-2598ea03e308"
      },
      "source": [
        "df.shape"
      ],
      "execution_count": 13,
      "outputs": [
        {
          "output_type": "execute_result",
          "data": {
            "text/plain": [
              "(1714, 2)"
            ]
          },
          "metadata": {
            "tags": []
          },
          "execution_count": 13
        }
      ]
    },
    {
      "cell_type": "markdown",
      "metadata": {
        "id": "8zLeS_scCbFH"
      },
      "source": [
        "Some Examples from the dataset"
      ]
    },
    {
      "cell_type": "code",
      "metadata": {
        "colab": {
          "base_uri": "https://localhost:8080/",
          "height": 204
        },
        "id": "OmISX0ZrnvCm",
        "outputId": "09a21f8a-180e-4858-dd00-2d7e63c3869f"
      },
      "source": [
        "df.head()"
      ],
      "execution_count": 14,
      "outputs": [
        {
          "output_type": "execute_result",
          "data": {
            "text/html": [
              "<div>\n",
              "<style scoped>\n",
              "    .dataframe tbody tr th:only-of-type {\n",
              "        vertical-align: middle;\n",
              "    }\n",
              "\n",
              "    .dataframe tbody tr th {\n",
              "        vertical-align: top;\n",
              "    }\n",
              "\n",
              "    .dataframe thead th {\n",
              "        text-align: right;\n",
              "    }\n",
              "</style>\n",
              "<table border=\"1\" class=\"dataframe\">\n",
              "  <thead>\n",
              "    <tr style=\"text-align: right;\">\n",
              "      <th></th>\n",
              "      <th>Question</th>\n",
              "      <th>Answer</th>\n",
              "    </tr>\n",
              "  </thead>\n",
              "  <tbody>\n",
              "    <tr>\n",
              "      <th>0</th>\n",
              "      <td>Was Abraham Lincoln the sixteenth President of...</td>\n",
              "      <td>yes</td>\n",
              "    </tr>\n",
              "    <tr>\n",
              "      <th>1</th>\n",
              "      <td>Was Abraham Lincoln the sixteenth President of...</td>\n",
              "      <td>Yes.</td>\n",
              "    </tr>\n",
              "    <tr>\n",
              "      <th>2</th>\n",
              "      <td>Did Lincoln sign the National Banking Act of 1...</td>\n",
              "      <td>yes</td>\n",
              "    </tr>\n",
              "    <tr>\n",
              "      <th>3</th>\n",
              "      <td>Did Lincoln sign the National Banking Act of 1...</td>\n",
              "      <td>Yes.</td>\n",
              "    </tr>\n",
              "    <tr>\n",
              "      <th>4</th>\n",
              "      <td>Did his mother die of pneumonia?</td>\n",
              "      <td>no</td>\n",
              "    </tr>\n",
              "  </tbody>\n",
              "</table>\n",
              "</div>"
            ],
            "text/plain": [
              "                                            Question Answer\n",
              "0  Was Abraham Lincoln the sixteenth President of...    yes\n",
              "1  Was Abraham Lincoln the sixteenth President of...   Yes.\n",
              "2  Did Lincoln sign the National Banking Act of 1...    yes\n",
              "3  Did Lincoln sign the National Banking Act of 1...   Yes.\n",
              "4                   Did his mother die of pneumonia?     no"
            ]
          },
          "metadata": {
            "tags": []
          },
          "execution_count": 14
        }
      ]
    },
    {
      "cell_type": "code",
      "metadata": {
        "id": "mcXXGnvFV7jJ"
      },
      "source": [
        "df1=pd.read_csv('/content/drive/MyDrive/dataset/cmu/S09/question_answer_pairs.txt',sep='\\t',\n",
        "               header=0,lineterminator='\\n',dtype=pd.StringDtype(),encoding = \"ISO-8859-1\",\n",
        "               names= ['ArticleTitle','Question','Answer','DifficultyFromQuestioner','DifficultyFromAnswerer','ArticleFile'],usecols = ['Question','Answer'])"
      ],
      "execution_count": 15,
      "outputs": []
    },
    {
      "cell_type": "code",
      "metadata": {
        "id": "oFAtkcrHWAiV"
      },
      "source": [
        "df=df.append(df1)"
      ],
      "execution_count": 16,
      "outputs": []
    },
    {
      "cell_type": "code",
      "metadata": {
        "id": "inEo2G9uWQvf"
      },
      "source": [
        "df2=pd.read_csv('/content/drive/MyDrive/dataset/cmu/S10/question_answer_pairs.txt',sep='\\t',\n",
        "               header=0,lineterminator='\\n',dtype=pd.StringDtype(),encoding = \"ISO-8859-1\",\n",
        "               names= ['ArticleTitle','Question','Answer','DifficultyFromQuestioner','DifficultyFromAnswerer','ArticleFile'],usecols = ['Question','Answer'])"
      ],
      "execution_count": 17,
      "outputs": []
    },
    {
      "cell_type": "code",
      "metadata": {
        "id": "seFUHBcbWZqB"
      },
      "source": [
        "df=df.append(df2)"
      ],
      "execution_count": 18,
      "outputs": []
    },
    {
      "cell_type": "code",
      "metadata": {
        "colab": {
          "base_uri": "https://localhost:8080/"
        },
        "id": "Or6Ap-SVWcKe",
        "outputId": "c432bc31-8163-4f9a-8bc8-f4cb49e4fa30"
      },
      "source": [
        "df.shape"
      ],
      "execution_count": 19,
      "outputs": [
        {
          "output_type": "execute_result",
          "data": {
            "text/plain": [
              "(3997, 2)"
            ]
          },
          "metadata": {
            "tags": []
          },
          "execution_count": 19
        }
      ]
    },
    {
      "cell_type": "code",
      "metadata": {
        "id": "GA2MupzNWf7v"
      },
      "source": [
        "df=df.reset_index(drop=True)"
      ],
      "execution_count": 20,
      "outputs": []
    },
    {
      "cell_type": "markdown",
      "metadata": {
        "id": "wRW_bwxNwRd8"
      },
      "source": [
        "Lets first create the DataFrame"
      ]
    },
    {
      "cell_type": "code",
      "metadata": {
        "id": "1XDD-fHDnSJ6"
      },
      "source": [
        "example = [torchtext.legacy.data.Example.fromlist([str(df.Question[i]),str(df.Answer[i])], fields) for i in range(df.shape[0])]"
      ],
      "execution_count": 21,
      "outputs": []
    },
    {
      "cell_type": "markdown",
      "metadata": {
        "id": "Nv99sWUB1Va3"
      },
      "source": [
        "# New Section"
      ]
    },
    {
      "cell_type": "markdown",
      "metadata": {
        "id": "SCVqYgfkZJae"
      },
      "source": [
        "Now create the dataset"
      ]
    },
    {
      "cell_type": "code",
      "metadata": {
        "id": "M4mdAXR1ZIK8"
      },
      "source": [
        "from torchtext.legacy import data"
      ],
      "execution_count": 22,
      "outputs": []
    },
    {
      "cell_type": "code",
      "metadata": {
        "id": "nT-flpH-P1cd"
      },
      "source": [
        "# Creating dataset\n",
        "QADataset = data.Dataset(example, fields)"
      ],
      "execution_count": 23,
      "outputs": []
    },
    {
      "cell_type": "markdown",
      "metadata": {
        "id": "g6ZnyCPaR08F"
      },
      "source": [
        "Finally, we can split into training  and test sets by using the split() method:"
      ]
    },
    {
      "cell_type": "code",
      "metadata": {
        "id": "uPYXyuKhRpBk"
      },
      "source": [
        "(train_set, test_set) = QADataset.split(split_ratio=[0.70, 0.30], random_state=random.seed(SEED))"
      ],
      "execution_count": 24,
      "outputs": []
    },
    {
      "cell_type": "code",
      "metadata": {
        "id": "y3cCTrkoB7fu",
        "colab": {
          "base_uri": "https://localhost:8080/"
        },
        "outputId": "bb60fa14-31a8-47e7-f7a2-de548afc75e6"
      },
      "source": [
        "print(f\"Number of training examples: {len(train_set.examples)}\")\n",
        "print(f\"Number of testing examples: {len(test_set.examples)}\")"
      ],
      "execution_count": 25,
      "outputs": [
        {
          "output_type": "stream",
          "text": [
            "Number of training examples: 2798\n",
            "Number of testing examples: 1199\n"
          ],
          "name": "stdout"
        }
      ]
    },
    {
      "cell_type": "code",
      "metadata": {
        "colab": {
          "base_uri": "https://localhost:8080/"
        },
        "id": "hN6IJggTCBH6",
        "outputId": "12938eeb-b31c-4cd1-b07f-9caa6c3d5646"
      },
      "source": [
        "print(vars(train_set.examples[0]))"
      ],
      "execution_count": 74,
      "outputs": [
        {
          "output_type": "stream",
          "text": [
            "{'que': ['in', 'central', 'and', 'south', 'america', ',', 'what', 'instrument', 'was', 'the', 'xylophone', 'changed', 'into', '?'], 'ans': ['<', 'na', '>']}\n"
          ],
          "name": "stdout"
        }
      ]
    },
    {
      "cell_type": "code",
      "metadata": {
        "id": "BY3qVJbpK_2L"
      },
      "source": [
        "QUE.build_vocab(train_set, min_freq = 2)\n",
        "ANS.build_vocab(train_set, min_freq = 2)"
      ],
      "execution_count": 27,
      "outputs": []
    },
    {
      "cell_type": "code",
      "metadata": {
        "colab": {
          "base_uri": "https://localhost:8080/"
        },
        "id": "iy0xQVgdLBkm",
        "outputId": "3f7d96be-aec8-4b85-e5b7-61696d30e027"
      },
      "source": [
        "print(f\"Unique tokens in source  vocabulary: {len(QUE.vocab)}\")\n",
        "print(f\"Unique tokens in target vocabulary: {len(ANS.vocab)}\")"
      ],
      "execution_count": 28,
      "outputs": [
        {
          "output_type": "stream",
          "text": [
            "Unique tokens in source  vocabulary: 2215\n",
            "Unique tokens in target vocabulary: 1293\n"
          ],
          "name": "stdout"
        }
      ]
    },
    {
      "cell_type": "code",
      "metadata": {
        "id": "4I_59ly4LC4T"
      },
      "source": [
        "device = torch.device('cuda' if torch.cuda.is_available() else 'cpu')"
      ],
      "execution_count": 29,
      "outputs": []
    },
    {
      "cell_type": "code",
      "metadata": {
        "id": "_0GNSQSCLEOB"
      },
      "source": [
        "BATCH_SIZE = 32\n",
        "\n",
        "train_iterator,  test_iterator = BucketIterator.splits(\n",
        "    (train_set, test_set), sort_key = lambda x: len(x.que),\n",
        "    sort_within_batch=True,\n",
        "    batch_size = BATCH_SIZE, \n",
        "    device = device)"
      ],
      "execution_count": 30,
      "outputs": []
    },
    {
      "cell_type": "markdown",
      "metadata": {
        "id": "_7LDTL5nrhU4"
      },
      "source": [
        "#Building Transformer from Scratch"
      ]
    },
    {
      "cell_type": "code",
      "metadata": {
        "id": "49ZtLSfSrfga"
      },
      "source": [
        "class SelfAttention(nn.Module):\n",
        "    def __init__(self, embed_size, heads):\n",
        "        super(SelfAttention, self).__init__()\n",
        "        self.embed_size = embed_size\n",
        "        self.heads = heads\n",
        "        self.head_dim = embed_size // heads\n",
        "\n",
        "        assert (\n",
        "            self.head_dim * heads == embed_size\n",
        "        ), \"Embedding size needs to be divisible by heads\"\n",
        "\n",
        "        self.values = nn.Linear(self.head_dim, self.head_dim, bias=False)\n",
        "        self.keys = nn.Linear(self.head_dim, self.head_dim, bias=False)\n",
        "        self.queries = nn.Linear(self.head_dim, self.head_dim, bias=False)\n",
        "        self.fc_out = nn.Linear(heads * self.head_dim, embed_size)\n",
        "\n",
        "    def forward(self, values, keys, query, mask):\n",
        "        # Get number of training examples\n",
        "        N = query.shape[0]\n",
        "\n",
        "        value_len, key_len, query_len = values.shape[1], keys.shape[1], query.shape[1]\n",
        "\n",
        "        # Split the embedding into self.heads different pieces\n",
        "        values = values.reshape(N,value_len, self.heads, self.head_dim)\n",
        "        keys = keys.reshape(N, key_len, self.heads, self.head_dim)\n",
        "        query = query.reshape(N, query_len, self.heads, self.head_dim)\n",
        "\n",
        "        values = self.values(values)  # (N, value_len, heads, head_dim)\n",
        "        keys = self.keys(keys)  # (N, key_len, heads, head_dim)\n",
        "        queries = self.queries(query)  # (N, query_len, heads, heads_dim)\n",
        "\n",
        "        # Einsum does matrix mult. for query*keys for each training example\n",
        "        # with every other training example, don't be confused by einsum\n",
        "        # it's just how I like doing matrix multiplication & bmm\n",
        "\n",
        "        energy = torch.einsum(\"nqhd,nkhd->nhqk\", [queries, keys])\n",
        "        # queries shape: (N, query_len, heads, heads_dim),\n",
        "        # keys shape: (N, key_len, heads, heads_dim)\n",
        "        # energy: (N, heads, query_len, key_len)\n",
        "\n",
        "        # Mask padded indices so their weights become 0\n",
        "        if mask is not None:\n",
        "            energy = energy.masked_fill(mask == 0, float(\"-1e20\"))\n",
        "\n",
        "        # Normalize energy values similarly to seq2seq + attention\n",
        "        # so that they sum to 1. Also divide by scaling factor for\n",
        "        # better stability\n",
        "        attention = torch.softmax(energy / (self.embed_size ** (1 / 2)), dim=3)\n",
        "        # attention shape: (N, heads, query_len, key_len)\n",
        "\n",
        "        out = torch.einsum(\"nhql,nlhd->nqhd\", [attention, values]).reshape(\n",
        "            N,query_len, self.heads * self.head_dim\n",
        "        )\n",
        "        # attention shape: (N, heads, query_len, key_len)\n",
        "        # values shape: (N, value_len, heads, heads_dim)\n",
        "        # out after matrix multiply: (N, query_len, heads, head_dim), then\n",
        "        # we reshape and flatten the last two dimensions.\n",
        "\n",
        "        out = self.fc_out(out)\n",
        "        # Linear layer doesn't modify the shape, final shape will be\n",
        "        # (N, query_len, embed_size)\n",
        "\n",
        "        return out"
      ],
      "execution_count": 31,
      "outputs": []
    },
    {
      "cell_type": "markdown",
      "metadata": {
        "id": "m_2J-yuOrt0w"
      },
      "source": [
        "Transformer Block"
      ]
    },
    {
      "cell_type": "code",
      "metadata": {
        "id": "5gOIGbcVrs2U"
      },
      "source": [
        "class TransformerBlock(nn.Module):\n",
        "    def __init__(self, embed_size, heads, dropout, forward_expansion):\n",
        "        super(TransformerBlock, self).__init__()\n",
        "        self.attention = SelfAttention(embed_size, heads)\n",
        "        self.norm1 = nn.LayerNorm(embed_size)\n",
        "        self.norm2 = nn.LayerNorm(embed_size)\n",
        "\n",
        "        self.feed_forward = nn.Sequential(\n",
        "            nn.Linear(embed_size, forward_expansion * embed_size),\n",
        "            nn.ReLU(),\n",
        "            nn.Linear(forward_expansion * embed_size, embed_size),\n",
        "        )\n",
        "\n",
        "        self.dropout = nn.Dropout(dropout)\n",
        "\n",
        "    def forward(self, value, key, query, mask):\n",
        "        attention = self.attention(value, key, query, mask)\n",
        "\n",
        "        # Add skip connection, run through normalization and finally dropout\n",
        "        x = self.dropout(self.norm1(attention + query))\n",
        "        forward = self.feed_forward(x)\n",
        "        out = self.dropout(self.norm2(forward + x))\n",
        "        return out"
      ],
      "execution_count": 32,
      "outputs": []
    },
    {
      "cell_type": "markdown",
      "metadata": {
        "id": "Q4VCRN1brxJX"
      },
      "source": [
        "Ecoder"
      ]
    },
    {
      "cell_type": "code",
      "metadata": {
        "id": "ddiTgU8hLFj1"
      },
      "source": [
        "class Encoder(nn.Module):\n",
        "    def __init__(\n",
        "        self,\n",
        "        src_vocab_size,\n",
        "        embed_size,\n",
        "        num_layers,\n",
        "        heads,\n",
        "        device,\n",
        "        forward_expansion,\n",
        "        dropout,\n",
        "        max_length,\n",
        "    ):\n",
        "\n",
        "        super(Encoder, self).__init__()\n",
        "        self.embed_size = embed_size\n",
        "        self.device = device\n",
        "        self.word_embedding = nn.Embedding(src_vocab_size, embed_size)\n",
        "        self.position_embedding = nn.Embedding(max_length, embed_size)\n",
        "\n",
        "        self.layers = nn.ModuleList(\n",
        "            [\n",
        "                TransformerBlock(\n",
        "                    embed_size,\n",
        "                    heads,\n",
        "                    dropout=dropout,\n",
        "                    forward_expansion=forward_expansion,\n",
        "                )\n",
        "                for _ in range(num_layers)\n",
        "            ]\n",
        "        )\n",
        "\n",
        "        self.dropout = nn.Dropout(dropout)\n",
        "\n",
        "    def forward(self, x, mask):\n",
        "        N, seq_length = x.shape\n",
        "        positions = torch.arange(0, seq_length).expand(N, seq_length).to(self.device)\n",
        "        out = self.dropout(\n",
        "            (self.word_embedding(x) + self.position_embedding(positions))\n",
        "        )\n",
        "\n",
        "        # In the Encoder the query, key, value are all the same, it's in the\n",
        "        # decoder this will change. This might look a bit odd in this case.\n",
        "        for layer in self.layers:\n",
        "            out = layer(out, out, out, mask)\n",
        "\n",
        "        return out"
      ],
      "execution_count": 33,
      "outputs": []
    },
    {
      "cell_type": "markdown",
      "metadata": {
        "id": "HzfGBcr8r4bI"
      },
      "source": [
        "Decoder Block\n"
      ]
    },
    {
      "cell_type": "code",
      "metadata": {
        "id": "xU-aPTlfr_Zu"
      },
      "source": [
        "class DecoderBlock(nn.Module):\n",
        "    def __init__(self, embed_size, heads, forward_expansion, dropout, device):\n",
        "        super(DecoderBlock, self).__init__()\n",
        "        self.norm = nn.LayerNorm(embed_size)\n",
        "        self.attention = SelfAttention(embed_size, heads=heads)\n",
        "        self.transformer_block = TransformerBlock(\n",
        "            embed_size, heads, dropout, forward_expansion\n",
        "        )\n",
        "        self.dropout = nn.Dropout(dropout)\n",
        "\n",
        "    def forward(self, x, value, key, src_mask, trg_mask):\n",
        "        attention = self.attention(x, x, x, trg_mask)\n",
        "        query = self.dropout(self.norm(attention + x))\n",
        "        out = self.transformer_block(value, key, query, src_mask)\n",
        "        return out"
      ],
      "execution_count": 34,
      "outputs": []
    },
    {
      "cell_type": "markdown",
      "metadata": {
        "id": "WJLBPL8QsAkM"
      },
      "source": [
        "And then Decoder"
      ]
    },
    {
      "cell_type": "code",
      "metadata": {
        "id": "GKKhHPD2LHX1"
      },
      "source": [
        "class Decoder(nn.Module):\n",
        "    def __init__(\n",
        "        self,\n",
        "        trg_vocab_size,\n",
        "        embed_size,\n",
        "        num_layers,\n",
        "        heads,\n",
        "        forward_expansion,\n",
        "        dropout,\n",
        "        device,\n",
        "        max_length,\n",
        "    ):\n",
        "        super(Decoder, self).__init__()\n",
        "        self.device = device\n",
        "        self.word_embedding = nn.Embedding(trg_vocab_size, embed_size)\n",
        "        self.position_embedding = nn.Embedding(max_length, embed_size)\n",
        "\n",
        "        self.layers = nn.ModuleList(\n",
        "            [\n",
        "                DecoderBlock(embed_size, heads, forward_expansion, dropout, device)\n",
        "                for _ in range(num_layers)\n",
        "            ]\n",
        "        )\n",
        "        self.fc_out = nn.Linear(embed_size, trg_vocab_size)\n",
        "        self.dropout = nn.Dropout(dropout)\n",
        "\n",
        "    def forward(self, x, enc_out, src_mask, trg_mask):\n",
        "        N, seq_length= x.shape\n",
        "        positions =  torch.arange(0, seq_length).expand(N, seq_length).to(self.device)\n",
        "        x = self.dropout((self.word_embedding(x) + self.position_embedding(positions)))\n",
        "\n",
        "        for layer in self.layers:\n",
        "            x = layer(x, enc_out, enc_out, src_mask, trg_mask)\n",
        "\n",
        "        out = self.fc_out(x)\n",
        "\n",
        "        return out"
      ],
      "execution_count": 35,
      "outputs": []
    },
    {
      "cell_type": "markdown",
      "metadata": {
        "id": "EIAfLPSIsPqj"
      },
      "source": [
        "Then Finally transformer"
      ]
    },
    {
      "cell_type": "code",
      "metadata": {
        "id": "YIf8EPxVLJhx"
      },
      "source": [
        "class Transformer(nn.Module):\n",
        "    def __init__(\n",
        "        self,\n",
        "        src_vocab_size,\n",
        "        trg_vocab_size,\n",
        "        src_pad_idx,\n",
        "        trg_pad_idx,\n",
        "        embed_size=512,\n",
        "        num_layers=6,\n",
        "        forward_expansion=4,\n",
        "        heads=8,\n",
        "        dropout=0,\n",
        "        device=\"cpu\",\n",
        "        max_length=100,\n",
        "    ):\n",
        "\n",
        "        super(Transformer, self).__init__()\n",
        "\n",
        "        self.encoder = Encoder(\n",
        "            src_vocab_size,\n",
        "            embed_size,\n",
        "            num_layers,\n",
        "            heads,\n",
        "            device,\n",
        "            forward_expansion,\n",
        "            dropout,\n",
        "            max_length,\n",
        "        )\n",
        "\n",
        "        self.decoder = Decoder(\n",
        "            trg_vocab_size,\n",
        "            embed_size,\n",
        "            num_layers,\n",
        "            heads,\n",
        "            forward_expansion,\n",
        "            dropout,\n",
        "            device,\n",
        "            max_length,\n",
        "        )\n",
        "\n",
        "        self.src_pad_idx = src_pad_idx\n",
        "        self.trg_pad_idx = trg_pad_idx\n",
        "        self.device = device\n",
        "\n",
        "    def make_src_mask(self, src):\n",
        "        src_mask = (src != self.src_pad_idx).unsqueeze(1).unsqueeze(2)\n",
        "        # (N, 1, 1, src_len)\n",
        "        \n",
        "        #src_mask = src.transpose(0, 1) == self.src_pad_idx\n",
        "        return src_mask.to(self.device)\n",
        "\n",
        "    def make_trg_mask(self, trg):\n",
        "        N, trg_len= trg.shape\n",
        "        trg_mask = torch.tril(torch.ones((trg_len, trg_len))).expand(\n",
        "            N, 1, trg_len, trg_len\n",
        "        )\n",
        "\n",
        "        return trg_mask.to(self.device)\n",
        "\n",
        "    def forward(self, src, trg):\n",
        "        src_mask = self.make_src_mask(src)\n",
        "        trg_mask = self.make_trg_mask(trg)\n",
        "        enc_src = self.encoder(src, src_mask)\n",
        "        out = self.decoder(trg, enc_src, src_mask, trg_mask)\n",
        "        return out"
      ],
      "execution_count": 36,
      "outputs": []
    },
    {
      "cell_type": "code",
      "metadata": {
        "id": "3i0_86JVLL-9",
        "colab": {
          "base_uri": "https://localhost:8080/",
          "height": 52
        },
        "outputId": "7a7e6069-95ce-4e48-fc82-19945264aa6e"
      },
      "source": [
        "'''\n",
        "INPUT_DIM = len(QUE.vocab)\n",
        "OUTPUT_DIM = len(ANS.vocab)\n",
        "ENC_EMB_DIM = 256\n",
        "DEC_EMB_DIM = 256\n",
        "HID_DIM = 512\n",
        "N_LAYERS = 2\n",
        "ENC_DROPOUT = 0.5\n",
        "DEC_DROPOUT = 0.5\n",
        "\n",
        "enc = Encoder(INPUT_DIM, ENC_EMB_DIM, HID_DIM, N_LAYERS, ENC_DROPOUT)\n",
        "dec = Decoder(OUTPUT_DIM, DEC_EMB_DIM, HID_DIM, N_LAYERS, DEC_DROPOUT)\n",
        "\n",
        "model = Seq2Seq(enc, dec, device).to(device)\n",
        "'''"
      ],
      "execution_count": 37,
      "outputs": [
        {
          "output_type": "execute_result",
          "data": {
            "application/vnd.google.colaboratory.intrinsic+json": {
              "type": "string"
            },
            "text/plain": [
              "'\\nINPUT_DIM = len(QUE.vocab)\\nOUTPUT_DIM = len(ANS.vocab)\\nENC_EMB_DIM = 256\\nDEC_EMB_DIM = 256\\nHID_DIM = 512\\nN_LAYERS = 2\\nENC_DROPOUT = 0.5\\nDEC_DROPOUT = 0.5\\n\\nenc = Encoder(INPUT_DIM, ENC_EMB_DIM, HID_DIM, N_LAYERS, ENC_DROPOUT)\\ndec = Decoder(OUTPUT_DIM, DEC_EMB_DIM, HID_DIM, N_LAYERS, DEC_DROPOUT)\\n\\nmodel = Seq2Seq(enc, dec, device).to(device)\\n'"
            ]
          },
          "metadata": {
            "tags": []
          },
          "execution_count": 37
        }
      ]
    },
    {
      "cell_type": "code",
      "metadata": {
        "id": "u_pju3NQt8yq"
      },
      "source": [
        "device = torch.device(\"cuda\" if torch.cuda.is_available() else \"cpu\")\n",
        "\n",
        "load_model = True\n",
        "save_model = True\n",
        "\n",
        "# Training hyperparameters\n",
        "num_epochs = 10\n",
        "learning_rate = 3e-4\n",
        "BATCH_SIZE = 32\n",
        "\n",
        "# Model hyperparameters\n",
        "src_vocab_size = len(QUE.vocab) #len(vocab_transform[SRC_LANGUAGE]) #len(german.vocab)\n",
        "trg_vocab_size = len(ANS.vocab) #len(vocab_transform[TGT_LANGUAGE]) #len(english.vocab)\n",
        "\n",
        "src_pad_idx = QUE.vocab.stoi[\"<pad>\"]\n",
        "trg_pad_idx = ANS.vocab.stoi[\"<pad>\"]\n",
        "model = Transformer(src_vocab_size, trg_vocab_size, src_pad_idx, trg_pad_idx, device=device).to(\n",
        "        device)\n",
        "\n",
        "#optimizer = optim.Adam(model.parameters(), lr=learning_rate)"
      ],
      "execution_count": 38,
      "outputs": []
    },
    {
      "cell_type": "code",
      "metadata": {
        "colab": {
          "base_uri": "https://localhost:8080/"
        },
        "id": "TBhX5dKuLNar",
        "outputId": "fed100d1-f3b4-4964-a6ad-33da9a560470"
      },
      "source": [
        "def init_weights(m):\n",
        "    for name, param in m.named_parameters():\n",
        "        nn.init.uniform_(param.data, -0.08, 0.08)\n",
        "        \n",
        "model.apply(init_weights)"
      ],
      "execution_count": 39,
      "outputs": [
        {
          "output_type": "execute_result",
          "data": {
            "text/plain": [
              "Transformer(\n",
              "  (encoder): Encoder(\n",
              "    (word_embedding): Embedding(2215, 512)\n",
              "    (position_embedding): Embedding(100, 512)\n",
              "    (layers): ModuleList(\n",
              "      (0): TransformerBlock(\n",
              "        (attention): SelfAttention(\n",
              "          (values): Linear(in_features=64, out_features=64, bias=False)\n",
              "          (keys): Linear(in_features=64, out_features=64, bias=False)\n",
              "          (queries): Linear(in_features=64, out_features=64, bias=False)\n",
              "          (fc_out): Linear(in_features=512, out_features=512, bias=True)\n",
              "        )\n",
              "        (norm1): LayerNorm((512,), eps=1e-05, elementwise_affine=True)\n",
              "        (norm2): LayerNorm((512,), eps=1e-05, elementwise_affine=True)\n",
              "        (feed_forward): Sequential(\n",
              "          (0): Linear(in_features=512, out_features=2048, bias=True)\n",
              "          (1): ReLU()\n",
              "          (2): Linear(in_features=2048, out_features=512, bias=True)\n",
              "        )\n",
              "        (dropout): Dropout(p=0, inplace=False)\n",
              "      )\n",
              "      (1): TransformerBlock(\n",
              "        (attention): SelfAttention(\n",
              "          (values): Linear(in_features=64, out_features=64, bias=False)\n",
              "          (keys): Linear(in_features=64, out_features=64, bias=False)\n",
              "          (queries): Linear(in_features=64, out_features=64, bias=False)\n",
              "          (fc_out): Linear(in_features=512, out_features=512, bias=True)\n",
              "        )\n",
              "        (norm1): LayerNorm((512,), eps=1e-05, elementwise_affine=True)\n",
              "        (norm2): LayerNorm((512,), eps=1e-05, elementwise_affine=True)\n",
              "        (feed_forward): Sequential(\n",
              "          (0): Linear(in_features=512, out_features=2048, bias=True)\n",
              "          (1): ReLU()\n",
              "          (2): Linear(in_features=2048, out_features=512, bias=True)\n",
              "        )\n",
              "        (dropout): Dropout(p=0, inplace=False)\n",
              "      )\n",
              "      (2): TransformerBlock(\n",
              "        (attention): SelfAttention(\n",
              "          (values): Linear(in_features=64, out_features=64, bias=False)\n",
              "          (keys): Linear(in_features=64, out_features=64, bias=False)\n",
              "          (queries): Linear(in_features=64, out_features=64, bias=False)\n",
              "          (fc_out): Linear(in_features=512, out_features=512, bias=True)\n",
              "        )\n",
              "        (norm1): LayerNorm((512,), eps=1e-05, elementwise_affine=True)\n",
              "        (norm2): LayerNorm((512,), eps=1e-05, elementwise_affine=True)\n",
              "        (feed_forward): Sequential(\n",
              "          (0): Linear(in_features=512, out_features=2048, bias=True)\n",
              "          (1): ReLU()\n",
              "          (2): Linear(in_features=2048, out_features=512, bias=True)\n",
              "        )\n",
              "        (dropout): Dropout(p=0, inplace=False)\n",
              "      )\n",
              "      (3): TransformerBlock(\n",
              "        (attention): SelfAttention(\n",
              "          (values): Linear(in_features=64, out_features=64, bias=False)\n",
              "          (keys): Linear(in_features=64, out_features=64, bias=False)\n",
              "          (queries): Linear(in_features=64, out_features=64, bias=False)\n",
              "          (fc_out): Linear(in_features=512, out_features=512, bias=True)\n",
              "        )\n",
              "        (norm1): LayerNorm((512,), eps=1e-05, elementwise_affine=True)\n",
              "        (norm2): LayerNorm((512,), eps=1e-05, elementwise_affine=True)\n",
              "        (feed_forward): Sequential(\n",
              "          (0): Linear(in_features=512, out_features=2048, bias=True)\n",
              "          (1): ReLU()\n",
              "          (2): Linear(in_features=2048, out_features=512, bias=True)\n",
              "        )\n",
              "        (dropout): Dropout(p=0, inplace=False)\n",
              "      )\n",
              "      (4): TransformerBlock(\n",
              "        (attention): SelfAttention(\n",
              "          (values): Linear(in_features=64, out_features=64, bias=False)\n",
              "          (keys): Linear(in_features=64, out_features=64, bias=False)\n",
              "          (queries): Linear(in_features=64, out_features=64, bias=False)\n",
              "          (fc_out): Linear(in_features=512, out_features=512, bias=True)\n",
              "        )\n",
              "        (norm1): LayerNorm((512,), eps=1e-05, elementwise_affine=True)\n",
              "        (norm2): LayerNorm((512,), eps=1e-05, elementwise_affine=True)\n",
              "        (feed_forward): Sequential(\n",
              "          (0): Linear(in_features=512, out_features=2048, bias=True)\n",
              "          (1): ReLU()\n",
              "          (2): Linear(in_features=2048, out_features=512, bias=True)\n",
              "        )\n",
              "        (dropout): Dropout(p=0, inplace=False)\n",
              "      )\n",
              "      (5): TransformerBlock(\n",
              "        (attention): SelfAttention(\n",
              "          (values): Linear(in_features=64, out_features=64, bias=False)\n",
              "          (keys): Linear(in_features=64, out_features=64, bias=False)\n",
              "          (queries): Linear(in_features=64, out_features=64, bias=False)\n",
              "          (fc_out): Linear(in_features=512, out_features=512, bias=True)\n",
              "        )\n",
              "        (norm1): LayerNorm((512,), eps=1e-05, elementwise_affine=True)\n",
              "        (norm2): LayerNorm((512,), eps=1e-05, elementwise_affine=True)\n",
              "        (feed_forward): Sequential(\n",
              "          (0): Linear(in_features=512, out_features=2048, bias=True)\n",
              "          (1): ReLU()\n",
              "          (2): Linear(in_features=2048, out_features=512, bias=True)\n",
              "        )\n",
              "        (dropout): Dropout(p=0, inplace=False)\n",
              "      )\n",
              "    )\n",
              "    (dropout): Dropout(p=0, inplace=False)\n",
              "  )\n",
              "  (decoder): Decoder(\n",
              "    (word_embedding): Embedding(1293, 512)\n",
              "    (position_embedding): Embedding(100, 512)\n",
              "    (layers): ModuleList(\n",
              "      (0): DecoderBlock(\n",
              "        (norm): LayerNorm((512,), eps=1e-05, elementwise_affine=True)\n",
              "        (attention): SelfAttention(\n",
              "          (values): Linear(in_features=64, out_features=64, bias=False)\n",
              "          (keys): Linear(in_features=64, out_features=64, bias=False)\n",
              "          (queries): Linear(in_features=64, out_features=64, bias=False)\n",
              "          (fc_out): Linear(in_features=512, out_features=512, bias=True)\n",
              "        )\n",
              "        (transformer_block): TransformerBlock(\n",
              "          (attention): SelfAttention(\n",
              "            (values): Linear(in_features=64, out_features=64, bias=False)\n",
              "            (keys): Linear(in_features=64, out_features=64, bias=False)\n",
              "            (queries): Linear(in_features=64, out_features=64, bias=False)\n",
              "            (fc_out): Linear(in_features=512, out_features=512, bias=True)\n",
              "          )\n",
              "          (norm1): LayerNorm((512,), eps=1e-05, elementwise_affine=True)\n",
              "          (norm2): LayerNorm((512,), eps=1e-05, elementwise_affine=True)\n",
              "          (feed_forward): Sequential(\n",
              "            (0): Linear(in_features=512, out_features=2048, bias=True)\n",
              "            (1): ReLU()\n",
              "            (2): Linear(in_features=2048, out_features=512, bias=True)\n",
              "          )\n",
              "          (dropout): Dropout(p=0, inplace=False)\n",
              "        )\n",
              "        (dropout): Dropout(p=0, inplace=False)\n",
              "      )\n",
              "      (1): DecoderBlock(\n",
              "        (norm): LayerNorm((512,), eps=1e-05, elementwise_affine=True)\n",
              "        (attention): SelfAttention(\n",
              "          (values): Linear(in_features=64, out_features=64, bias=False)\n",
              "          (keys): Linear(in_features=64, out_features=64, bias=False)\n",
              "          (queries): Linear(in_features=64, out_features=64, bias=False)\n",
              "          (fc_out): Linear(in_features=512, out_features=512, bias=True)\n",
              "        )\n",
              "        (transformer_block): TransformerBlock(\n",
              "          (attention): SelfAttention(\n",
              "            (values): Linear(in_features=64, out_features=64, bias=False)\n",
              "            (keys): Linear(in_features=64, out_features=64, bias=False)\n",
              "            (queries): Linear(in_features=64, out_features=64, bias=False)\n",
              "            (fc_out): Linear(in_features=512, out_features=512, bias=True)\n",
              "          )\n",
              "          (norm1): LayerNorm((512,), eps=1e-05, elementwise_affine=True)\n",
              "          (norm2): LayerNorm((512,), eps=1e-05, elementwise_affine=True)\n",
              "          (feed_forward): Sequential(\n",
              "            (0): Linear(in_features=512, out_features=2048, bias=True)\n",
              "            (1): ReLU()\n",
              "            (2): Linear(in_features=2048, out_features=512, bias=True)\n",
              "          )\n",
              "          (dropout): Dropout(p=0, inplace=False)\n",
              "        )\n",
              "        (dropout): Dropout(p=0, inplace=False)\n",
              "      )\n",
              "      (2): DecoderBlock(\n",
              "        (norm): LayerNorm((512,), eps=1e-05, elementwise_affine=True)\n",
              "        (attention): SelfAttention(\n",
              "          (values): Linear(in_features=64, out_features=64, bias=False)\n",
              "          (keys): Linear(in_features=64, out_features=64, bias=False)\n",
              "          (queries): Linear(in_features=64, out_features=64, bias=False)\n",
              "          (fc_out): Linear(in_features=512, out_features=512, bias=True)\n",
              "        )\n",
              "        (transformer_block): TransformerBlock(\n",
              "          (attention): SelfAttention(\n",
              "            (values): Linear(in_features=64, out_features=64, bias=False)\n",
              "            (keys): Linear(in_features=64, out_features=64, bias=False)\n",
              "            (queries): Linear(in_features=64, out_features=64, bias=False)\n",
              "            (fc_out): Linear(in_features=512, out_features=512, bias=True)\n",
              "          )\n",
              "          (norm1): LayerNorm((512,), eps=1e-05, elementwise_affine=True)\n",
              "          (norm2): LayerNorm((512,), eps=1e-05, elementwise_affine=True)\n",
              "          (feed_forward): Sequential(\n",
              "            (0): Linear(in_features=512, out_features=2048, bias=True)\n",
              "            (1): ReLU()\n",
              "            (2): Linear(in_features=2048, out_features=512, bias=True)\n",
              "          )\n",
              "          (dropout): Dropout(p=0, inplace=False)\n",
              "        )\n",
              "        (dropout): Dropout(p=0, inplace=False)\n",
              "      )\n",
              "      (3): DecoderBlock(\n",
              "        (norm): LayerNorm((512,), eps=1e-05, elementwise_affine=True)\n",
              "        (attention): SelfAttention(\n",
              "          (values): Linear(in_features=64, out_features=64, bias=False)\n",
              "          (keys): Linear(in_features=64, out_features=64, bias=False)\n",
              "          (queries): Linear(in_features=64, out_features=64, bias=False)\n",
              "          (fc_out): Linear(in_features=512, out_features=512, bias=True)\n",
              "        )\n",
              "        (transformer_block): TransformerBlock(\n",
              "          (attention): SelfAttention(\n",
              "            (values): Linear(in_features=64, out_features=64, bias=False)\n",
              "            (keys): Linear(in_features=64, out_features=64, bias=False)\n",
              "            (queries): Linear(in_features=64, out_features=64, bias=False)\n",
              "            (fc_out): Linear(in_features=512, out_features=512, bias=True)\n",
              "          )\n",
              "          (norm1): LayerNorm((512,), eps=1e-05, elementwise_affine=True)\n",
              "          (norm2): LayerNorm((512,), eps=1e-05, elementwise_affine=True)\n",
              "          (feed_forward): Sequential(\n",
              "            (0): Linear(in_features=512, out_features=2048, bias=True)\n",
              "            (1): ReLU()\n",
              "            (2): Linear(in_features=2048, out_features=512, bias=True)\n",
              "          )\n",
              "          (dropout): Dropout(p=0, inplace=False)\n",
              "        )\n",
              "        (dropout): Dropout(p=0, inplace=False)\n",
              "      )\n",
              "      (4): DecoderBlock(\n",
              "        (norm): LayerNorm((512,), eps=1e-05, elementwise_affine=True)\n",
              "        (attention): SelfAttention(\n",
              "          (values): Linear(in_features=64, out_features=64, bias=False)\n",
              "          (keys): Linear(in_features=64, out_features=64, bias=False)\n",
              "          (queries): Linear(in_features=64, out_features=64, bias=False)\n",
              "          (fc_out): Linear(in_features=512, out_features=512, bias=True)\n",
              "        )\n",
              "        (transformer_block): TransformerBlock(\n",
              "          (attention): SelfAttention(\n",
              "            (values): Linear(in_features=64, out_features=64, bias=False)\n",
              "            (keys): Linear(in_features=64, out_features=64, bias=False)\n",
              "            (queries): Linear(in_features=64, out_features=64, bias=False)\n",
              "            (fc_out): Linear(in_features=512, out_features=512, bias=True)\n",
              "          )\n",
              "          (norm1): LayerNorm((512,), eps=1e-05, elementwise_affine=True)\n",
              "          (norm2): LayerNorm((512,), eps=1e-05, elementwise_affine=True)\n",
              "          (feed_forward): Sequential(\n",
              "            (0): Linear(in_features=512, out_features=2048, bias=True)\n",
              "            (1): ReLU()\n",
              "            (2): Linear(in_features=2048, out_features=512, bias=True)\n",
              "          )\n",
              "          (dropout): Dropout(p=0, inplace=False)\n",
              "        )\n",
              "        (dropout): Dropout(p=0, inplace=False)\n",
              "      )\n",
              "      (5): DecoderBlock(\n",
              "        (norm): LayerNorm((512,), eps=1e-05, elementwise_affine=True)\n",
              "        (attention): SelfAttention(\n",
              "          (values): Linear(in_features=64, out_features=64, bias=False)\n",
              "          (keys): Linear(in_features=64, out_features=64, bias=False)\n",
              "          (queries): Linear(in_features=64, out_features=64, bias=False)\n",
              "          (fc_out): Linear(in_features=512, out_features=512, bias=True)\n",
              "        )\n",
              "        (transformer_block): TransformerBlock(\n",
              "          (attention): SelfAttention(\n",
              "            (values): Linear(in_features=64, out_features=64, bias=False)\n",
              "            (keys): Linear(in_features=64, out_features=64, bias=False)\n",
              "            (queries): Linear(in_features=64, out_features=64, bias=False)\n",
              "            (fc_out): Linear(in_features=512, out_features=512, bias=True)\n",
              "          )\n",
              "          (norm1): LayerNorm((512,), eps=1e-05, elementwise_affine=True)\n",
              "          (norm2): LayerNorm((512,), eps=1e-05, elementwise_affine=True)\n",
              "          (feed_forward): Sequential(\n",
              "            (0): Linear(in_features=512, out_features=2048, bias=True)\n",
              "            (1): ReLU()\n",
              "            (2): Linear(in_features=2048, out_features=512, bias=True)\n",
              "          )\n",
              "          (dropout): Dropout(p=0, inplace=False)\n",
              "        )\n",
              "        (dropout): Dropout(p=0, inplace=False)\n",
              "      )\n",
              "    )\n",
              "    (fc_out): Linear(in_features=512, out_features=1293, bias=True)\n",
              "    (dropout): Dropout(p=0, inplace=False)\n",
              "  )\n",
              ")"
            ]
          },
          "metadata": {
            "tags": []
          },
          "execution_count": 39
        }
      ]
    },
    {
      "cell_type": "code",
      "metadata": {
        "colab": {
          "base_uri": "https://localhost:8080/"
        },
        "id": "PSdevJJNLPOt",
        "outputId": "e1031059-c325-4c74-8a4b-b687d823f4c0"
      },
      "source": [
        "def count_parameters(model):\n",
        "    return sum(p.numel() for p in model.parameters() if p.requires_grad)\n",
        "\n",
        "print(f'The model has {count_parameters(model):,} trainable parameters')"
      ],
      "execution_count": 40,
      "outputs": [
        {
          "output_type": "stream",
          "text": [
            "The model has 32,738,061 trainable parameters\n"
          ],
          "name": "stdout"
        }
      ]
    },
    {
      "cell_type": "code",
      "metadata": {
        "id": "A-CvhZwYLQoT"
      },
      "source": [
        "optimizer = optim.Adam(model.parameters())"
      ],
      "execution_count": 41,
      "outputs": []
    },
    {
      "cell_type": "code",
      "metadata": {
        "id": "kO11j3WELR5P"
      },
      "source": [
        "TRG_PAD_IDX = ANS.vocab.stoi[ANS.pad_token]\n",
        "\n",
        "criterion = nn.CrossEntropyLoss(ignore_index = TRG_PAD_IDX)"
      ],
      "execution_count": 42,
      "outputs": []
    },
    {
      "cell_type": "code",
      "metadata": {
        "id": "K8uHdiFyblfS"
      },
      "source": [
        "b=next(iter(train_iterator))"
      ],
      "execution_count": 43,
      "outputs": []
    },
    {
      "cell_type": "code",
      "metadata": {
        "id": "e67d-Q2cbq3d"
      },
      "source": [
        "src,trg=b.que,b.ans"
      ],
      "execution_count": 44,
      "outputs": []
    },
    {
      "cell_type": "code",
      "metadata": {
        "colab": {
          "base_uri": "https://localhost:8080/"
        },
        "id": "-gYJNqBfbu8V",
        "outputId": "8fbb5684-4d90-4b2e-dbc7-4d4781bf33fb"
      },
      "source": [
        "src.shape"
      ],
      "execution_count": 45,
      "outputs": [
        {
          "output_type": "execute_result",
          "data": {
            "text/plain": [
              "torch.Size([11, 32])"
            ]
          },
          "metadata": {
            "tags": []
          },
          "execution_count": 45
        }
      ]
    },
    {
      "cell_type": "code",
      "metadata": {
        "id": "OAnw-EXuvASf"
      },
      "source": [
        "src=torch.transpose(src,0,1)"
      ],
      "execution_count": 46,
      "outputs": []
    },
    {
      "cell_type": "code",
      "metadata": {
        "colab": {
          "base_uri": "https://localhost:8080/"
        },
        "id": "SBd8v7_nvJUE",
        "outputId": "5e56dab7-c9a2-4744-f46f-9bf12846d812"
      },
      "source": [
        "trg.shape"
      ],
      "execution_count": 47,
      "outputs": [
        {
          "output_type": "execute_result",
          "data": {
            "text/plain": [
              "torch.Size([83, 32])"
            ]
          },
          "metadata": {
            "tags": []
          },
          "execution_count": 47
        }
      ]
    },
    {
      "cell_type": "code",
      "metadata": {
        "id": "yqfLmYt4vM-f"
      },
      "source": [
        "trg=torch.transpose(trg,0,1)"
      ],
      "execution_count": 48,
      "outputs": []
    },
    {
      "cell_type": "code",
      "metadata": {
        "colab": {
          "base_uri": "https://localhost:8080/"
        },
        "id": "mtMYE_QqvTz7",
        "outputId": "d1ec4c05-2b7a-4d07-de2b-8fce5996994d"
      },
      "source": [
        "trg[:,:-1].shape"
      ],
      "execution_count": 49,
      "outputs": [
        {
          "output_type": "execute_result",
          "data": {
            "text/plain": [
              "torch.Size([32, 82])"
            ]
          },
          "metadata": {
            "tags": []
          },
          "execution_count": 49
        }
      ]
    },
    {
      "cell_type": "code",
      "metadata": {
        "colab": {
          "base_uri": "https://localhost:8080/"
        },
        "id": "fHUq3XYHcEqB",
        "outputId": "d9c6a526-366e-4847-eac7-07b9c7b554bc"
      },
      "source": [
        "len(src[0])"
      ],
      "execution_count": 50,
      "outputs": [
        {
          "output_type": "execute_result",
          "data": {
            "text/plain": [
              "11"
            ]
          },
          "metadata": {
            "tags": []
          },
          "execution_count": 50
        }
      ]
    },
    {
      "cell_type": "code",
      "metadata": {
        "id": "FLag9GM5cMxB"
      },
      "source": [
        ""
      ],
      "execution_count": 50,
      "outputs": []
    },
    {
      "cell_type": "code",
      "metadata": {
        "id": "UgTBvr0ew8Qj"
      },
      "source": [
        "o=model(src,trg[:,:-1])"
      ],
      "execution_count": 51,
      "outputs": []
    },
    {
      "cell_type": "code",
      "metadata": {
        "colab": {
          "base_uri": "https://localhost:8080/"
        },
        "id": "BZx7S-P3xYli",
        "outputId": "bcb7b884-bbfb-4384-dfc8-5dfe129b4d86"
      },
      "source": [
        "o.shape"
      ],
      "execution_count": 52,
      "outputs": [
        {
          "output_type": "execute_result",
          "data": {
            "text/plain": [
              "torch.Size([32, 82, 1293])"
            ]
          },
          "metadata": {
            "tags": []
          },
          "execution_count": 52
        }
      ]
    },
    {
      "cell_type": "code",
      "metadata": {
        "id": "7a8rzm5Nytqs"
      },
      "source": [
        "top1 = o.argmax(1)"
      ],
      "execution_count": 53,
      "outputs": []
    },
    {
      "cell_type": "code",
      "metadata": {
        "colab": {
          "base_uri": "https://localhost:8080/"
        },
        "id": "hVey3DDsywbg",
        "outputId": "d7376b2e-c5f1-49c0-8b44-8243db731d17"
      },
      "source": [
        "top1"
      ],
      "execution_count": 54,
      "outputs": [
        {
          "output_type": "execute_result",
          "data": {
            "text/plain": [
              "tensor([[60,  0, 38,  ..., 39, 40, 68],\n",
              "        [ 6,  0, 38,  ..., 39, 40, 38],\n",
              "        [ 5,  0, 38,  ..., 39, 40, 68],\n",
              "        ...,\n",
              "        [60, 10, 38,  ..., 39, 40, 38],\n",
              "        [60,  0, 38,  ..., 39, 40, 68],\n",
              "        [ 6,  8, 38,  ..., 39, 40, 38]])"
            ]
          },
          "metadata": {
            "tags": []
          },
          "execution_count": 54
        }
      ]
    },
    {
      "cell_type": "code",
      "metadata": {
        "colab": {
          "base_uri": "https://localhost:8080/"
        },
        "id": "MKd9rlivyzw-",
        "outputId": "620889d2-e8a4-4176-e989-13a27f46de64"
      },
      "source": [
        "top1.shape"
      ],
      "execution_count": 55,
      "outputs": [
        {
          "output_type": "execute_result",
          "data": {
            "text/plain": [
              "torch.Size([32, 1293])"
            ]
          },
          "metadata": {
            "tags": []
          },
          "execution_count": 55
        }
      ]
    },
    {
      "cell_type": "code",
      "metadata": {
        "id": "eR_OuDI2xo1J"
      },
      "source": [
        " ou_dim = o.shape[-1]"
      ],
      "execution_count": 56,
      "outputs": []
    },
    {
      "cell_type": "code",
      "metadata": {
        "id": "qjCUMqFEvsLx"
      },
      "source": [
        "output = o.reshape(-1, o.shape[2])\n",
        "trg1 = trg[:,1:].reshape(-1)\n",
        "        \n",
        "              \n",
        "        "
      ],
      "execution_count": 57,
      "outputs": []
    },
    {
      "cell_type": "code",
      "metadata": {
        "id": "8oau_SKrxtR6"
      },
      "source": [
        "loss = criterion(output, trg1)"
      ],
      "execution_count": 58,
      "outputs": []
    },
    {
      "cell_type": "code",
      "metadata": {
        "colab": {
          "base_uri": "https://localhost:8080/"
        },
        "id": "EgK3XOthv7yq",
        "outputId": "57c7e1ed-5cb8-4db5-ee09-f0133ed27992"
      },
      "source": [
        "loss.item()"
      ],
      "execution_count": 59,
      "outputs": [
        {
          "output_type": "execute_result",
          "data": {
            "text/plain": [
              "7.174862384796143"
            ]
          },
          "metadata": {
            "tags": []
          },
          "execution_count": 59
        }
      ]
    },
    {
      "cell_type": "code",
      "metadata": {
        "id": "mZ4sWMcWy8JO"
      },
      "source": [
        "     \n",
        "loss.backward()\n"
      ],
      "execution_count": 60,
      "outputs": []
    },
    {
      "cell_type": "code",
      "metadata": {
        "id": "qP3wZ4upzbKi"
      },
      "source": [
        "clip=1      \n",
        "torch.nn.utils.clip_grad_norm_(model.parameters(), clip)\n",
        "        \n",
        "optimizer.step()"
      ],
      "execution_count": 61,
      "outputs": []
    },
    {
      "cell_type": "code",
      "metadata": {
        "id": "rbMffxBJzFGz",
        "colab": {
          "base_uri": "https://localhost:8080/"
        },
        "outputId": "c189176c-ed8b-4c87-d0e4-5d16d3562cb2"
      },
      "source": [
        "len(train_iterator)"
      ],
      "execution_count": 62,
      "outputs": [
        {
          "output_type": "execute_result",
          "data": {
            "text/plain": [
              "88"
            ]
          },
          "metadata": {
            "tags": []
          },
          "execution_count": 62
        }
      ]
    },
    {
      "cell_type": "code",
      "metadata": {
        "id": "Q-HReR1sLS8w"
      },
      "source": [
        "def train(model, iterator, optimizer, criterion, clip):\n",
        "    \n",
        "    model.train()\n",
        "    \n",
        "    epoch_loss = 0\n",
        "    \n",
        "    for i, batch in enumerate(iterator):\n",
        "        \n",
        "        src = batch.que\n",
        "        trg = batch.ans\n",
        "        src=torch.transpose(src,0,1)\n",
        "        trg=torch.transpose(trg,0,1)\n",
        "        optimizer.zero_grad()\n",
        "        \n",
        "        output = model(src, trg[:,:-1])\n",
        "        output = output.reshape(-1, output.shape[2])\n",
        "        trg1 = trg[:,1:].reshape(-1)\n",
        "        #trg = [trg len, batch size]\n",
        "        #output = [trg len, batch size, output dim]\n",
        "        \n",
        "        #output_dim = output.shape[-1]\n",
        "        \n",
        "        #output = output[1:].view(-1, output_dim)\n",
        "        #trg = trg[1:].view(-1)\n",
        "        \n",
        "        #trg = [(trg len - 1) * batch size]\n",
        "        #output = [(trg len - 1) * batch size, output dim]\n",
        "        \n",
        "        loss = criterion(output, trg1)\n",
        "        \n",
        "        loss.backward()\n",
        "        \n",
        "        torch.nn.utils.clip_grad_norm_(model.parameters(), clip)\n",
        "        \n",
        "        optimizer.step()\n",
        "        \n",
        "        epoch_loss += loss.item()\n",
        "        if i==20:\n",
        "          break\n",
        "        exampls=i*BATCH_SIZE\n",
        "    return epoch_loss / exampls"
      ],
      "execution_count": 69,
      "outputs": []
    },
    {
      "cell_type": "code",
      "metadata": {
        "colab": {
          "base_uri": "https://localhost:8080/"
        },
        "id": "5anJydslpSq1",
        "outputId": "29cbf1f6-3772-4034-880e-fada2fe2c5b5"
      },
      "source": [
        "len(test_iterator)"
      ],
      "execution_count": 64,
      "outputs": [
        {
          "output_type": "execute_result",
          "data": {
            "text/plain": [
              "38"
            ]
          },
          "metadata": {
            "tags": []
          },
          "execution_count": 64
        }
      ]
    },
    {
      "cell_type": "code",
      "metadata": {
        "colab": {
          "base_uri": "https://localhost:8080/"
        },
        "id": "HPV6IstwpX3m",
        "outputId": "6e799f96-0f22-424d-f7cb-d3573ed2e0aa"
      },
      "source": [
        "len(df)"
      ],
      "execution_count": 65,
      "outputs": [
        {
          "output_type": "execute_result",
          "data": {
            "text/plain": [
              "3997"
            ]
          },
          "metadata": {
            "tags": []
          },
          "execution_count": 65
        }
      ]
    },
    {
      "cell_type": "code",
      "metadata": {
        "id": "jfm7iiOmLUhv"
      },
      "source": [
        "def evaluate(model, iterator, criterion):\n",
        "    \n",
        "    model.eval()\n",
        "    \n",
        "    epoch_loss = 0\n",
        "    \n",
        "    with torch.no_grad():\n",
        "    \n",
        "        for i, batch in enumerate(iterator):\n",
        "\n",
        "            src = batch.que\n",
        "            trg = batch.ans\n",
        "            src=torch.transpose(src,0,1)\n",
        "            trg=torch.transpose(trg,0,1)\n",
        "            output = model(src, trg[:,:-1]) #turn off teacher forcing\n",
        "            output = output.reshape(-1, output.shape[2])\n",
        "            trg1 = trg[:,1:].reshape(-1)\n",
        "            #trg = [trg len, batch size]\n",
        "            #output = [trg len, batch size, output dim]\n",
        "\n",
        "            #output_dim = output.shape[-1]\n",
        "            \n",
        "            #output = output[1:].view(-1, output_dim)\n",
        "            #trg = trg[1:].view(-1)\n",
        "\n",
        "            #trg = [(trg len - 1) * batch size]\n",
        "            #output = [(trg len - 1) * batch size, output dim]\n",
        "\n",
        "            loss = criterion(output, trg1)\n",
        "            \n",
        "            epoch_loss += loss.item()\n",
        "            if i==20:\n",
        "              break\n",
        "            exampls=i*BATCH_SIZE\n",
        "    return epoch_loss / exampls"
      ],
      "execution_count": 70,
      "outputs": []
    },
    {
      "cell_type": "code",
      "metadata": {
        "id": "mXrLres2LWHg"
      },
      "source": [
        "def epoch_time(start_time, end_time):\n",
        "    elapsed_time = end_time - start_time\n",
        "    elapsed_mins = int(elapsed_time / 60)\n",
        "    elapsed_secs = int(elapsed_time - (elapsed_mins * 60))\n",
        "    return elapsed_mins, elapsed_secs"
      ],
      "execution_count": 67,
      "outputs": []
    },
    {
      "cell_type": "code",
      "metadata": {
        "colab": {
          "base_uri": "https://localhost:8080/"
        },
        "id": "HGdzElxhLXKm",
        "outputId": "da258a46-20ec-45b0-e1b1-bf1541eff7c5"
      },
      "source": [
        "#The name VALID_LOSS actually indicated TEST_LOSS. There was no validation data. The model was evaluated on Test Data.\n",
        "N_EPOCHS = 10\n",
        "CLIP = 1\n",
        "\n",
        "best_valid_loss = float('inf')\n",
        "\n",
        "for epoch in range(N_EPOCHS):\n",
        "    \n",
        "    start_time = time.time()\n",
        "    \n",
        "    train_loss = train(model, train_iterator, optimizer, criterion, CLIP)\n",
        "    valid_loss = evaluate(model, test_iterator, criterion)\n",
        "    \n",
        "    end_time = time.time()\n",
        "    \n",
        "    epoch_mins, epoch_secs = epoch_time(start_time, end_time)\n",
        "    \n",
        "    if valid_loss < best_valid_loss:\n",
        "        best_valid_loss = valid_loss\n",
        "        torch.save(model.state_dict(), 'tut1-model.pt')\n",
        "    \n",
        "    print(f'Epoch: {epoch+1:02} | Time: {epoch_mins}m {epoch_secs}s')\n",
        "    print(f'\\tTrain Loss: {train_loss:.3f} | Train PPL: {math.exp(train_loss):7.3f}')\n",
        "    print(f'\\t Val. Loss: {valid_loss:.3f} |  Val. PPL: {math.exp(valid_loss):7.3f}')"
      ],
      "execution_count": 71,
      "outputs": [
        {
          "output_type": "stream",
          "text": [
            "Epoch: 01 | Time: 0m 23s\n",
            "\tTrain Loss: 0.157 | Train PPL:   1.170\n",
            "\t Val. Loss: 0.135 |  Val. PPL:   1.145\n",
            "Epoch: 02 | Time: 0m 23s\n",
            "\tTrain Loss: 0.160 | Train PPL:   1.173\n",
            "\t Val. Loss: 0.135 |  Val. PPL:   1.144\n",
            "Epoch: 03 | Time: 0m 24s\n",
            "\tTrain Loss: 0.157 | Train PPL:   1.170\n",
            "\t Val. Loss: 0.134 |  Val. PPL:   1.143\n",
            "Epoch: 04 | Time: 0m 25s\n",
            "\tTrain Loss: 0.154 | Train PPL:   1.166\n",
            "\t Val. Loss: 0.134 |  Val. PPL:   1.144\n",
            "Epoch: 05 | Time: 0m 22s\n",
            "\tTrain Loss: 0.158 | Train PPL:   1.171\n",
            "\t Val. Loss: 0.135 |  Val. PPL:   1.144\n",
            "Epoch: 06 | Time: 0m 24s\n",
            "\tTrain Loss: 0.160 | Train PPL:   1.174\n",
            "\t Val. Loss: 0.134 |  Val. PPL:   1.144\n",
            "Epoch: 07 | Time: 0m 23s\n",
            "\tTrain Loss: 0.160 | Train PPL:   1.174\n",
            "\t Val. Loss: 0.134 |  Val. PPL:   1.144\n",
            "Epoch: 08 | Time: 0m 22s\n",
            "\tTrain Loss: 0.155 | Train PPL:   1.168\n",
            "\t Val. Loss: 0.135 |  Val. PPL:   1.144\n",
            "Epoch: 09 | Time: 0m 26s\n",
            "\tTrain Loss: 0.161 | Train PPL:   1.174\n",
            "\t Val. Loss: 0.134 |  Val. PPL:   1.144\n",
            "Epoch: 10 | Time: 0m 25s\n",
            "\tTrain Loss: 0.156 | Train PPL:   1.169\n",
            "\t Val. Loss: 0.133 |  Val. PPL:   1.143\n"
          ],
          "name": "stdout"
        }
      ]
    },
    {
      "cell_type": "code",
      "metadata": {
        "colab": {
          "base_uri": "https://localhost:8080/"
        },
        "id": "OH-9wcDtLYi5",
        "outputId": "bb0efd8d-f540-4091-e515-dbe0a3ddb94e"
      },
      "source": [
        "model.load_state_dict(torch.load('tut1-model.pt'))\n",
        "\n",
        "test_loss = evaluate(model, test_iterator, criterion)\n",
        "\n",
        "print(f'| Test Loss: {test_loss:.3f} | Test PPL: {math.exp(test_loss):7.3f} |')"
      ],
      "execution_count": 72,
      "outputs": [
        {
          "output_type": "stream",
          "text": [
            "| Test Loss: 0.133 | Test PPL:   1.143 |\n"
          ],
          "name": "stdout"
        }
      ]
    }
  ]
}